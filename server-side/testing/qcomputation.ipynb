{
 "cells": [
  {
   "cell_type": "markdown",
   "metadata": {},
   "source": [
    "NOTE: This is a Jupyter Notebook, so it won't be used in production, only for testing -> Be careful, as some changes in this file won't affect the production code and vice versa"
   ]
  },
  {
   "cell_type": "markdown",
   "metadata": {},
   "source": [
    "Resources:\n",
    "- https://quantum-computing.ibm.com/composer/files/new\n",
    "- https://wybiral.github.io/quantum/\n",
    "- https://jarrodmcclean.com/basic-quantum-circuit-simulation-in-python/\n",
    "- https://quantumcomputing.stackexchange.com/questions/29454/why-do-quantum-computing-simulators-have-the-measurement-function"
   ]
  },
  {
   "cell_type": "markdown",
   "metadata": {},
   "source": [
    "# Quantum Computation"
   ]
  },
  {
   "cell_type": "code",
   "execution_count": 85,
   "metadata": {},
   "outputs": [],
   "source": [
    "import numpy as np"
   ]
  },
  {
   "cell_type": "code",
   "execution_count": 86,
   "metadata": {},
   "outputs": [],
   "source": [
    "### basic stuff\n",
    "\n",
    "# zero ket\n",
    "ZKet = np.array([1,0])\n",
    "# one ket\n",
    "OKet = np.array([0,1])\n",
    "\n",
    "### operator matrices\n",
    "\n",
    "# identity\n",
    "Id = np.array([\n",
    "    [1,0],\n",
    "    [0,1]\n",
    "])\n",
    "# pauli x\n",
    "X = np.array([\n",
    "    [0,1],\n",
    "    [1,0]\n",
    "])\n",
    "# pauli y\n",
    "Y = np.array([\n",
    "    [0,0-1j],\n",
    "    [0+1j,0]\n",
    "])\n",
    "# pauli z\n",
    "Z = np.array([\n",
    "    [1,0],\n",
    "    [0,-1]\n",
    "])\n",
    "# hadamard\n",
    "H = 1/np.sqrt(2) * np.array([\n",
    "    [1,1],\n",
    "    [1,-1]\n",
    "])\n",
    "# phase\n",
    "S = np.array([\n",
    "    [1,0],\n",
    "    [0,0+1j]\n",
    "])\n",
    "# pi over eight\n",
    "T = np.array([\n",
    "    [1,0],\n",
    "    [0,np.exp((0+1j)*np.pi/4)]\n",
    "])\n",
    "# |0><0>\n",
    "P_0 = np.array([\n",
    "    [1,0],\n",
    "    [0,0]\n",
    "])\n",
    "# |1><1>\n",
    "P_1 = np.array([\n",
    "    [0,0],\n",
    "    [0,1]\n",
    "])"
   ]
  },
  {
   "cell_type": "code",
   "execution_count": 87,
   "metadata": {},
   "outputs": [],
   "source": [
    "class QState:\n",
    "    def __init__(self, qbit_cnt, info=False):\n",
    "        self.qbit_cnt = qbit_cnt\n",
    "        # create state |00...0> with qbit_cnt amount of zeros\n",
    "        self.state = np.zeros(2**self.qbit_cnt, dtype=complex)\n",
    "        self.state[0] = 1\n",
    "\n",
    "        if info:\n",
    "            max_bin_width = len(bin(len(self.state) - 1)[2:])\n",
    "            binary_str = bin(0)[2:].zfill(max_bin_width)\n",
    "            print(\"Initial state: |{}>\".format(binary_str))\n",
    "    \n",
    "    # show all states including the impossible one (unless\n",
    "    # otherwise noted) and show according probabilities\n",
    "    # DISCLAIMER: rounding/floating point errors may occur\n",
    "    def show_state_and_probs(self, reduced=False):\n",
    "        max_len = 0\n",
    "        for element in self.state:\n",
    "            if reduced and element == 0+0j:\n",
    "                continue\n",
    "\n",
    "            curr_len = max(len(str(element.real)), len(str(element.imag)))\n",
    "            if curr_len > max_len:\n",
    "                max_len = curr_len\n",
    "        \n",
    "        max_bin_width = len(bin(len(self.state) - 1)[2:])\n",
    "\n",
    "        for i, element in enumerate(self.state):\n",
    "            if reduced and element == 0+0j:\n",
    "                continue\n",
    "\n",
    "            real_part_str = \"{:.{width}f}\".format(element.real, width=max_len)\n",
    "            imaginary_part_str = \"{:.{width}f}\".format(element.imag, width=max_len)\n",
    "            \n",
    "            formatted_element = (\"{}+{}i\".format(real_part_str, imaginary_part_str) if element.imag >= 0 else\n",
    "                                 \"{}{}i\".format(real_part_str, imaginary_part_str))\n",
    "\n",
    "            binary_str = bin(i)[2:].zfill(max_bin_width)\n",
    "\n",
    "            prob_str = str(round((np.absolute(element)**2)*100, 4))\n",
    "\n",
    "            if i > 0 and element.real >= 0:\n",
    "                print(\"+{}|{}>\\t-> {}%\".format(formatted_element, binary_str, prob_str))\n",
    "            elif i > 0 and element.real < 0:\n",
    "                print(\"{}|{}>\\t-> {}%\".format(formatted_element, binary_str, prob_str))\n",
    "            elif i <= 0 and element.real >= 0:    \n",
    "                print(\" {}|{}>\\t-> {}%\".format(formatted_element, binary_str, prob_str))\n",
    "            else:\n",
    "                print(\"{}|{}>\\t-> {}%\".format(formatted_element, binary_str, prob_str))\n",
    "\n",
    "    ###\n",
    "    ### GATE CREATION HELPER ###\n",
    "    ###\n",
    "    \n",
    "    # e.g. turns [A, B, C, D] into A ⊗ B ⊗ C ⊗ D\n",
    "    def op_mats_arr_to_tens(self, op_mats_arr):\n",
    "        result = np.array([[1.0+0j]], dtype=complex)\n",
    "        for op_mat in op_mats_arr:\n",
    "            result = np.kron(result, op_mat)\n",
    "        \n",
    "        return result\n",
    "\n",
    "    def sing_qbit_op(self, pos, op_mat):\n",
    "        op_mats_arr = (\n",
    "              (pos)*[Id]\n",
    "            + (1)*[op_mat]\n",
    "            + (self.qbit_cnt-pos-1)*[Id]\n",
    "        )\n",
    "        gate = self.op_mats_arr_to_tens(op_mats_arr)\n",
    "        self.state = np.matmul(gate, self.state)\n",
    "    \n",
    "    # e.g. turns np.array([a, b, c, d])\n",
    "    # into [[a, ZKet, ZKet], [b, ZKet, OKet], [c, OKet, ZKet], [d, OKet, OKet]]\n",
    "    # both represent a*ZKET⊗ZKet + b*ZKet⊗OKet + c*OKet⊗ZKet + d*OKet⊗OKet\n",
    "    def decomp_state(self, comp):\n",
    "        decomp = []\n",
    "\n",
    "        max_bin_width = len(bin(len(comp) - 1)[2:])\n",
    "        for i in range(len(comp)):\n",
    "            binary_str = bin(i)[2:].zfill(max_bin_width)\n",
    "            \n",
    "            sub_decomp = [comp[i]]\n",
    "            for letter in binary_str:\n",
    "                if letter == \"0\":\n",
    "                    sub_decomp.append(ZKet)\n",
    "                elif letter == \"1\":\n",
    "                    sub_decomp.append(OKet)\n",
    "            decomp.append(sub_decomp)\n",
    "        \n",
    "        return decomp\n",
    "    \n",
    "    # e.g. turns [[a, ZKet, ZKet], [b, ZKet, OKet], [c, OKet, ZKet], [d, OKet, OKet]]\n",
    "    # into np.array([a, b, c, d])\n",
    "    # both represent a*ZKET⊗ZKet + b*ZKet⊗OKet + c*OKet⊗ZKet + d*OKet⊗OKet\n",
    "    def comp_state(self, decomp):\n",
    "        state = np.zeros(2**(len(decomp[0])-1), dtype=complex)\n",
    "\n",
    "        for element in decomp:\n",
    "            state += element[0]*self.op_mats_arr_to_tens(element[1:])[0]\n",
    "\n",
    "        return state\n",
    "\n",
    "    # decompose state into computation basis form, e.g.: [a,b,c,d] -> a|00>+b|01>+c|10>+d|11>\n",
    "    # then go over each summand and check if the qubit at ctrl_pos is set to one\n",
    "    # if no, just continue\n",
    "    # if yes, apply the target function to the summand -> add result to a temporary variable\n",
    "    # when looped over all summands, convert the temporary variable back to a normal state [w,x,y,z]\n",
    "    # which then becomes the main state\n",
    "    def ctrl(self, ctrl_pos, targ_func, *targ_pos_args):\n",
    "        decomp = self.decomp_state(self.state)\n",
    "        final_decomp = decomp.copy()\n",
    "\n",
    "        for i in range(len(decomp)):\n",
    "            for j in range(1, len(decomp[i])):\n",
    "                if j-1 != ctrl_pos or np.array_equal(decomp[i][j], ZKet):\n",
    "                    continue\n",
    "                \n",
    "                orig_qbit_cnt = self.qbit_cnt\n",
    "                self.qbit_cnt = len(decomp[i])-1\n",
    "\n",
    "                orig_state = self.state\n",
    "                self.state = self.comp_state([decomp[i]])\n",
    "                targ_func(*targ_pos_args)\n",
    "                # the following one line is the workaround since `final_decomp.remove(decomp[i])` doesn't work\n",
    "                final_decomp = [item for item in final_decomp if not (all(np.array_equal(xi, yi) for xi, yi in zip(item, decomp[i])))]\n",
    "                final_decomp += self.decomp_state(self.state)\n",
    "                \n",
    "                self.qbit_cnt = orig_qbit_cnt\n",
    "                self.state = orig_state\n",
    "                break # out of second for loop\n",
    "\n",
    "        self.state = self.comp_state(final_decomp)\n",
    "\n",
    "    def ctrl_ctrl(self, ctrl_pos1, ctrl_pos2, targ_func, *targ_pos_args):\n",
    "        decomp = self.decomp_state(self.state)\n",
    "        final_decomp = decomp.copy()\n",
    "\n",
    "        for i in range(len(decomp)):\n",
    "            ctrl_pos1_set = False\n",
    "            ctrl_pos2_set = False\n",
    "            for j in range(1, len(decomp[i])):\n",
    "                if j-1 == ctrl_pos1 and np.array_equal(decomp[i][j], OKet):\n",
    "                    ctrl_pos1_set = True\n",
    "                elif j-1 == ctrl_pos2 and np.array_equal(decomp[i][j], OKet):\n",
    "                    ctrl_pos2_set = True\n",
    "                \n",
    "                if (not ctrl_pos1_set) or (not ctrl_pos2_set):\n",
    "                    continue\n",
    "                \n",
    "                orig_qbit_cnt = self.qbit_cnt\n",
    "                self.qbit_cnt = len(decomp[i])-1\n",
    "\n",
    "                orig_state = self.state\n",
    "                self.state = self.comp_state([decomp[i]])\n",
    "                targ_func(*targ_pos_args)\n",
    "                # the following one line is the workaround since `final_decomp.remove(decomp[i])` doesn't work\n",
    "                final_decomp = [item for item in final_decomp if not (all(np.array_equal(xi, yi) for xi, yi in zip(item, decomp[i])))]\n",
    "                final_decomp += self.decomp_state(self.state)\n",
    "                \n",
    "                self.qbit_cnt = orig_qbit_cnt\n",
    "                self.state = orig_state\n",
    "                break # out of second for loop\n",
    "\n",
    "        self.state = self.comp_state(final_decomp)\n",
    "     \n",
    "    ###\n",
    "    ### SINGLE-QUBIT GATES ###\n",
    "    ###\n",
    "\n",
    "    def pauli_x(self, pos):\n",
    "        self.sing_qbit_op(pos, X)\n",
    "\n",
    "    def pauli_y(self, pos):\n",
    "        self.sing_qbit_op(pos, Y)\n",
    "\n",
    "    def pauli_z(self, pos):\n",
    "        self.sing_qbit_op(pos, Z)\n",
    "\n",
    "    def hadamard(self, pos):\n",
    "        self.sing_qbit_op(pos, H)\n",
    "    \n",
    "    def phase(self, pos):\n",
    "        self.sing_qbit_op(pos, S)\n",
    "\n",
    "    def pi_ov_8(self, pos):\n",
    "        self.sing_qbit_op(pos, T)\n",
    "\n",
    "    ###\n",
    "    ### MULTI-QUBIT GATES ###\n",
    "    ###\n",
    "\n",
    "    # doesn't matter whether ctrl_pos smaller or bigger than targ_pos\n",
    "    def cnot(self, ctrl_pos, targ_pos):\n",
    "        self.ctrl(ctrl_pos, self.pauli_x, targ_pos)\n",
    "\n",
    "    def cz(self, ctrl_pos, targ_pos):\n",
    "        self.ctrl(ctrl_pos, self.pauli_z, targ_pos)\n",
    "    \n",
    "    def cp(self, ctrl_pos, targ_pos):\n",
    "        self.ctrl(ctrl_pos, self.phase, targ_pos)\n",
    "    \n",
    "    def toffoli(self, ctrl_pos1, ctrl_pos2, targ_pos):\n",
    "        self.ctrl_ctrl(ctrl_pos1, ctrl_pos2, self.pauli_x, targ_pos)\n",
    "\n",
    "    def swap(self, pos1, pos2):\n",
    "        # using special decomposition to achieve it's functionality:\n",
    "        self.cnot(pos1, pos2)\n",
    "        self.cnot(pos2, pos1)\n",
    "        self.cnot(pos1, pos2)\n",
    "\n",
    "    def fredkin(self, ctrl_pos, swap_pos1, swap_pos2):\n",
    "        self.ctrl(ctrl_pos, self.swap, swap_pos1, swap_pos2)\n",
    "\n"
   ]
  },
  {
   "cell_type": "markdown",
   "metadata": {},
   "source": [
    "# Testing"
   ]
  },
  {
   "cell_type": "code",
   "execution_count": 88,
   "metadata": {},
   "outputs": [
    {
     "name": "stdout",
     "output_type": "stream",
     "text": [
      "Initial state: |0000>\n",
      "+0.499999999999999889+0.000000000000000000i|0110>\t-> 25.0%\n",
      "+0.499999999999999889+0.000000000000000000i|0111>\t-> 25.0%\n",
      "+0.499999999999999889+0.000000000000000000i|1100>\t-> 25.0%\n",
      "+0.499999999999999889+0.000000000000000000i|1101>\t-> 25.0%\n"
     ]
    }
   ],
   "source": [
    "### Testing\n",
    "\n",
    "qs = QState(4, True)\n",
    "\n",
    "qs.pauli_x(1)\n",
    "qs.pauli_x(2)\n",
    "qs.hadamard(0)\n",
    "qs.hadamard(3)\n",
    "qs.cnot(0,2)\n",
    "\n",
    "qs.show_state_and_probs(True)\n",
    "\n",
    "# EXPECTED:\n",
    "# 0.50000000+0.00000000i \t|0110> \t25.0000%\n",
    "# 0.50000000+0.00000000i \t|0111> \t25.0000%\n",
    "# 0.50000000+0.00000000i \t|1100> \t25.0000%\n",
    "# 0.50000000+0.00000000i \t|1101> \t25.0000%\n",
    "# SUCCESS!"
   ]
  },
  {
   "cell_type": "code",
   "execution_count": 89,
   "metadata": {},
   "outputs": [
    {
     "name": "stdout",
     "output_type": "stream",
     "text": [
      "Initial state: |00>\n",
      "+0.7071067811865474617+0.0000000000000000000i|01>\t-> 50.0%\n",
      "-0.7071067811865474617+0.0000000000000000000i|11>\t-> 50.0%\n"
     ]
    }
   ],
   "source": [
    "qs = QState(2, True)\n",
    "\n",
    "qs.hadamard(0)\n",
    "qs.pauli_x(1)\n",
    "qs.cz(0,1)\n",
    "\n",
    "qs.show_state_and_probs(True)\n",
    "\n",
    "# EXPECTED\n",
    "# 0.70710678+0.00000000i \t|01> \t50.0000%\n",
    "#-0.70710678+0.00000000i \t|11> \t50.0000%\n",
    "# SUCCESS!"
   ]
  },
  {
   "cell_type": "code",
   "execution_count": 90,
   "metadata": {},
   "outputs": [
    {
     "name": "stdout",
     "output_type": "stream",
     "text": [
      "Initial state: |00>\n",
      " 0.707106781186547462+0.000000000000000000i|00>\t-> 50.0%\n",
      "+0.707106781186547462+0.000000000000000000i|11>\t-> 50.0%\n"
     ]
    }
   ],
   "source": [
    "qs = QState(2, True)\n",
    "\n",
    "qs.hadamard(0)\n",
    "qs.cnot(0,1)\n",
    "\n",
    "qs.show_state_and_probs(True)\n",
    "\n",
    "# EXPECTED\n",
    "# 0.70710678+0.00000000i \t|00> \t50.0000%\n",
    "# 0.70710678+0.00000000i \t|11> \t50.0000%\n",
    "# SUCCESS!"
   ]
  },
  {
   "cell_type": "code",
   "execution_count": 91,
   "metadata": {},
   "outputs": [
    {
     "name": "stdout",
     "output_type": "stream",
     "text": [
      "Initial state: |00>\n",
      "+1.000+0.000i|01>\t-> 100.0%\n"
     ]
    }
   ],
   "source": [
    "qs = QState(2, True)\n",
    "\n",
    "qs.pauli_x(0)\n",
    "qs.swap(0,1)\n",
    "\n",
    "qs.show_state_and_probs(True)\n",
    "\n",
    "# EXPECTED\n",
    "# 1.00000000+0.00000000i \t|01> \t100.0000%\n",
    "# SUCCESS!"
   ]
  },
  {
   "cell_type": "code",
   "execution_count": 92,
   "metadata": {},
   "outputs": [
    {
     "name": "stdout",
     "output_type": "stream",
     "text": [
      "Initial state: |000>\n",
      "+1.000+0.000i|101>\t-> 100.0%\n"
     ]
    }
   ],
   "source": [
    "qs = QState(3, True)\n",
    "\n",
    "qs.pauli_x(0)\n",
    "qs.pauli_x(1)\n",
    "\n",
    "qs.fredkin(0,1,2)\n",
    "\n",
    "qs.show_state_and_probs(True)\n",
    "\n",
    "# EXPECTED\n",
    "# 1.00000000+0.00000000i \t|101> \t100.0000%\n",
    "# SUCCESS!"
   ]
  },
  {
   "cell_type": "code",
   "execution_count": 93,
   "metadata": {},
   "outputs": [
    {
     "name": "stdout",
     "output_type": "stream",
     "text": [
      "Initial state: |000>\n",
      "+1.000+0.000i|011>\t-> 100.0%\n"
     ]
    }
   ],
   "source": [
    "qs = QState(3, True)\n",
    "\n",
    "qs.pauli_x(0)\n",
    "qs.pauli_x(1)\n",
    "\n",
    "qs.fredkin(1,0,2)\n",
    "\n",
    "qs.show_state_and_probs(True)\n",
    "\n",
    "# EXPECTED\n",
    "# 1.00000000+0.00000000i \t|011> \t100.0000%\n",
    "# SUCCESS!"
   ]
  },
  {
   "cell_type": "code",
   "execution_count": 94,
   "metadata": {},
   "outputs": [
    {
     "name": "stdout",
     "output_type": "stream",
     "text": [
      "Initial state: |000>\n",
      "+1.000+0.000i|111>\t-> 100.0%\n"
     ]
    }
   ],
   "source": [
    "qs = QState(3, True)\n",
    "\n",
    "qs.pauli_x(0)\n",
    "qs.pauli_x(1)\n",
    "\n",
    "qs.toffoli(0,1,2)\n",
    "\n",
    "qs.show_state_and_probs(True)\n",
    "\n",
    "# EXPECTED\n",
    "# 1.00000000+0.00000000i \t|111> \t100.0000%\n",
    "# SUCCESS!"
   ]
  },
  {
   "cell_type": "code",
   "execution_count": 95,
   "metadata": {},
   "outputs": [
    {
     "name": "stdout",
     "output_type": "stream",
     "text": [
      "Initial state: |00>\n",
      "-0.7071067811865474617+0.0000000000000000000i|10>\t-> 50.0%\n",
      "-0.7071067811865474617+0.0000000000000000000i|11>\t-> 50.0%\n"
     ]
    }
   ],
   "source": [
    "qs = QState(2, True)\n",
    "\n",
    "qs.pauli_x(0)\n",
    "qs.hadamard(1)\n",
    "qs.pauli_z(0)\n",
    "\n",
    "qs.show_state_and_probs(True)\n",
    "\n",
    "# EXPECTED\n",
    "# -0.70710678+0.00000000i \t|10> \t50.0000%\n",
    "# -0.70710678+0.00000000i \t|11> \t50.0000%\n",
    "# SUCCESS!"
   ]
  },
  {
   "cell_type": "code",
   "execution_count": 96,
   "metadata": {},
   "outputs": [
    {
     "name": "stdout",
     "output_type": "stream",
     "text": [
      "Initial state: |00000>\n",
      "+0.499999999999999889+0.000000000000000000i|11100>\t-> 25.0%\n",
      "+0.499999999999999889+0.000000000000000000i|11101>\t-> 25.0%\n",
      "+0.499999999999999889+0.000000000000000000i|11110>\t-> 25.0%\n",
      "+0.499999999999999889+0.000000000000000000i|11111>\t-> 25.0%\n"
     ]
    }
   ],
   "source": [
    "qs = QState(5, True)\n",
    "\n",
    "qs.pauli_x(0)\n",
    "qs.pauli_x(1)\n",
    "qs.toffoli(0,1,2)\n",
    "qs.hadamard(3)\n",
    "qs.hadamard(4)\n",
    "\n",
    "qs.show_state_and_probs(True)\n",
    "\n",
    "# EXPECTED\n",
    "# 0.00000000+0.50000000i \t|11000> \t25.0000%\n",
    "# 0.00000000+0.50000000i \t|11001> \t25.0000%\n",
    "# 0.00000000+0.50000000i \t|11010> \t25.0000%\n",
    "# 0.00000000+0.50000000i \t|11011> \t25.0000%\n",
    "# SUCCESS!"
   ]
  },
  {
   "cell_type": "code",
   "execution_count": 98,
   "metadata": {},
   "outputs": [
    {
     "name": "stdout",
     "output_type": "stream",
     "text": [
      "0\n",
      "545\n",
      "1\n"
     ]
    },
    {
     "ename": "IndexError",
     "evalue": "list index out of range",
     "output_type": "error",
     "traceback": [
      "\u001b[1;31m---------------------------------------------------------------------------\u001b[0m",
      "\u001b[1;31mIndexError\u001b[0m                                Traceback (most recent call last)",
      "\u001b[1;32m~\\AppData\\Local\\Temp\\ipykernel_14812\\894896627.py\u001b[0m in \u001b[0;36m<module>\u001b[1;34m\u001b[0m\n\u001b[0;32m      2\u001b[0m \u001b[1;33m\u001b[0m\u001b[0m\n\u001b[0;32m      3\u001b[0m \u001b[1;32mfor\u001b[0m \u001b[0mi\u001b[0m \u001b[1;32min\u001b[0m \u001b[0mrange\u001b[0m\u001b[1;33m(\u001b[0m\u001b[0mlen\u001b[0m\u001b[1;33m(\u001b[0m\u001b[0mfoos\u001b[0m\u001b[1;33m)\u001b[0m\u001b[1;33m)\u001b[0m\u001b[1;33m:\u001b[0m\u001b[1;33m\u001b[0m\u001b[1;33m\u001b[0m\u001b[0m\n\u001b[1;32m----> 4\u001b[1;33m     \u001b[0mprint\u001b[0m\u001b[1;33m(\u001b[0m\u001b[0mfoos\u001b[0m\u001b[1;33m[\u001b[0m\u001b[0mi\u001b[0m\u001b[1;33m]\u001b[0m\u001b[1;33m)\u001b[0m\u001b[1;33m\u001b[0m\u001b[1;33m\u001b[0m\u001b[0m\n\u001b[0m\u001b[0;32m      5\u001b[0m     \u001b[1;32mif\u001b[0m \u001b[0mfoos\u001b[0m\u001b[1;33m[\u001b[0m\u001b[0mi\u001b[0m\u001b[1;33m]\u001b[0m \u001b[1;33m==\u001b[0m \u001b[1;36m1\u001b[0m\u001b[1;33m:\u001b[0m\u001b[1;33m\u001b[0m\u001b[1;33m\u001b[0m\u001b[0m\n\u001b[0;32m      6\u001b[0m         \u001b[0mfoos\u001b[0m\u001b[1;33m.\u001b[0m\u001b[0mpop\u001b[0m\u001b[1;33m(\u001b[0m\u001b[0mi\u001b[0m\u001b[1;33m)\u001b[0m\u001b[1;33m\u001b[0m\u001b[1;33m\u001b[0m\u001b[0m\n",
      "\u001b[1;31mIndexError\u001b[0m: list index out of range"
     ]
    }
   ],
   "source": [
    "foos = [0, 545, 1, 3]\n",
    "new_foos = \n",
    "\n",
    "for foo in range(len(foos)):\n",
    "    print(foos[i])\n",
    "    if foos[i] == 1:\n",
    "        foos.pop(i)\n",
    "        i += 1\n",
    "\n",
    "print(foos)"
   ]
  },
  {
   "cell_type": "markdown",
   "metadata": {},
   "source": [
    "# Protocol"
   ]
  },
  {
   "cell_type": "code",
   "execution_count": null,
   "metadata": {},
   "outputs": [
    {
     "name": "stdout",
     "output_type": "stream",
     "text": [
      "Initial state: |000>\n",
      "+1.000+0.000i|110>\t-> 100.0%\n"
     ]
    }
   ],
   "source": [
    "input_info = {\"qbit_cnt\": 3}\n",
    "input_gates = [{\"type\": \"pauli_x\", \"qbit\": [0]}, {\"type\": \"cnot\", \"qbit\": [0, 1]}]\n",
    "# careful that in [0, 1] the first number MUST be the control qubit, and the other one the target qubit\n",
    "# SO EVERYTHING MUST BE STRUCTURED ACCORDING TO THE GATE FUNCTIONS (that are listed in QState) \n",
    "\n",
    "qs = QState(input_info[\"qbit_cnt\"], True)\n",
    "\n",
    "for input_gate in input_gates:\n",
    "    gate_func = getattr(qs, input_gate[\"type\"])\n",
    "    gate_func(*input_gate[\"qbit\"])\n",
    "\n",
    "qs.show_state_and_probs(True)"
   ]
  }
 ],
 "metadata": {
  "kernelspec": {
   "display_name": "base",
   "language": "python",
   "name": "python3"
  },
  "language_info": {
   "codemirror_mode": {
    "name": "ipython",
    "version": 3
   },
   "file_extension": ".py",
   "mimetype": "text/x-python",
   "name": "python",
   "nbconvert_exporter": "python",
   "pygments_lexer": "ipython3",
   "version": "3.9.13"
  },
  "orig_nbformat": 4
 },
 "nbformat": 4,
 "nbformat_minor": 2
}
